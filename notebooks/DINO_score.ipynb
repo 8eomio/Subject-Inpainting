{
 "cells": [
  {
   "cell_type": "code",
   "execution_count": 86,
   "id": "226d8399-8e7d-4b8e-b915-63c532beb732",
   "metadata": {},
   "outputs": [
    {
     "name": "stdout",
     "output_type": "stream",
     "text": [
      "0.8252479135990143\n",
      "0.7444529235363007\n",
      "0.7451215237379074\n",
      "0.7316316515207291\n",
      "0.6985687911510468\n",
      "avg\n",
      "0.7490045607089997\n"
     ]
    }
   ],
   "source": [
    "from transformers import AutoImageProcessor, AutoModel\n",
    "from PIL import Image\n",
    "import torch.nn as nn\n",
    "import torch \n",
    "import os\n",
    "device = torch.device('cuda' if torch.cuda.is_available() else \"cpu\")\n",
    "processor = AutoImageProcessor.from_pretrained('facebook/dinov2-base')\n",
    "model = AutoModel.from_pretrained('facebook/dinov2-base').to(device)\n",
    "sum = 0\n",
    "count = 0\n",
    "image1 = Image.open('/home/beomjo/Paint-by-Example/dataset/ours/wolf.png')\n",
    "with torch.no_grad():\n",
    "    inputs1 = processor(images=image1, return_tensors=\"pt\").to(device)\n",
    "    outputs1 = model(**inputs1)\n",
    "    image_features1 = outputs1.last_hidden_state\n",
    "    image_features1 = image_features1.mean(dim=1)\n",
    "dir_= \"/home/beomjo/Paint-by-Example/dataset/wolf/images/\"\n",
    "for name in os.listdir(dir_):\n",
    "    dirname = dir_ + name\n",
    "    image2 = Image.open(dirname)\n",
    "    #image2 = Image.open('/home/beomjo/research/Dreambooth-Stable-Diffusion/outputs/txt2img-samples/photo-of-a-sks-backpack-on-a-yellow-chair-0221.jpg')\n",
    "    with torch.no_grad():\n",
    "        inputs2 = processor(images=image2, return_tensors=\"pt\").to(device)\n",
    "        outputs2 = model(**inputs2)\n",
    "        image_features2 = outputs2.last_hidden_state\n",
    "        image_features2 = image_features2.mean(dim=1)\n",
    "    \n",
    "    cos = nn.CosineSimilarity(dim=0)\n",
    "    sim = cos(image_features1[0],image_features2[0]).item()\n",
    "    sim = (sim+1)/2\n",
    "    print(sim)\n",
    "    count +=1\n",
    "    sum += sim\n",
    "print(\"avg\")\n",
    "print(sum/count)"
   ]
  },
  {
   "cell_type": "code",
   "execution_count": null,
   "id": "a31211bb-cafa-4b2e-88e1-89cf1daa7da9",
   "metadata": {},
   "outputs": [],
   "source": []
  },
  {
   "cell_type": "code",
   "execution_count": null,
   "id": "9515344a-f751-46b8-b334-57a646ae9225",
   "metadata": {},
   "outputs": [],
   "source": [
    "0.7440256476402283\n",
    "0.7826682448387146\n",
    "0.73\n",
    "0.74\n"
   ]
  },
  {
   "cell_type": "code",
   "execution_count": 77,
   "id": "3348c90f-c42d-44d9-ae2c-34c5893ede21",
   "metadata": {},
   "outputs": [
    {
     "data": {
      "text/plain": [
       "5.797513357214132"
      ]
     },
     "execution_count": 77,
     "metadata": {},
     "output_type": "execute_result"
    }
   ],
   "source": [
    "0.65+0.6272+0.59+0.688767152527968+0.6575806260108947+0.6907289400696754+0.6694439709186554+0.6274207934737206+0.5963718742132187\n"
   ]
  },
  {
   "cell_type": "code",
   "execution_count": 67,
   "id": "e678db99-0465-407c-a03f-6e3f3c579bfa",
   "metadata": {},
   "outputs": [
    {
     "data": {
      "text/plain": [
       "0.6501426853751142"
      ]
     },
     "execution_count": 67,
     "metadata": {},
     "output_type": "execute_result"
    }
   ],
   "source": [
    "5.201141483000914/8"
   ]
  },
  {
   "cell_type": "code",
   "execution_count": null,
   "id": "30a51329-5927-46ed-8828-3be5e349c168",
   "metadata": {},
   "outputs": [],
   "source": [
    "0.7420190076033274+0.5642696423456073+0.5712701038767894+0.720493832230568+0.5785305810471376+ 0.69222611784935 + "
   ]
  },
  {
   "cell_type": "code",
   "execution_count": 78,
   "id": "016cdefe-d9a4-45d8-8a66-03bd142a6ba1",
   "metadata": {},
   "outputs": [
    {
     "data": {
      "text/plain": [
       "0.7246891696517666"
      ]
     },
     "execution_count": 78,
     "metadata": {},
     "output_type": "execute_result"
    }
   ],
   "source": [
    "5.797513357214132/8"
   ]
  },
  {
   "cell_type": "code",
   "execution_count": 87,
   "id": "24a21314-f930-44e0-ac11-d1e1c4481a27",
   "metadata": {},
   "outputs": [
    {
     "data": {
      "text/plain": [
       "6.014499395961563"
      ]
     },
     "execution_count": 87,
     "metadata": {},
     "output_type": "execute_result"
    }
   ],
   "source": [
    "0.7793079316616058+ 0.7515242308378219 +0.7019184250384569+0.7690108319123586+ 0.7739345222711563+0.7612020870049795+0.7285968065261841+0.7490045607089997"
   ]
  },
  {
   "cell_type": "code",
   "execution_count": 88,
   "id": "6f5387b4-299c-47be-979e-c34198aec4e3",
   "metadata": {},
   "outputs": [
    {
     "data": {
      "text/plain": [
       "0.7518124244951954"
      ]
     },
     "execution_count": 88,
     "metadata": {},
     "output_type": "execute_result"
    }
   ],
   "source": [
    "6.014499395961563/8"
   ]
  }
 ],
 "metadata": {
  "kernelspec": {
   "display_name": "Paint-by-Example",
   "language": "python",
   "name": "paint-by-example"
  },
  "language_info": {
   "codemirror_mode": {
    "name": "ipython",
    "version": 3
   },
   "file_extension": ".py",
   "mimetype": "text/x-python",
   "name": "python",
   "nbconvert_exporter": "python",
   "pygments_lexer": "ipython3",
   "version": "3.8.5"
  }
 },
 "nbformat": 4,
 "nbformat_minor": 5
}
